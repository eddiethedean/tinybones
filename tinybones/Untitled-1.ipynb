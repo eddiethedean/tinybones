{
 "cells": [
  {
   "cell_type": "code",
   "execution_count": 1,
   "metadata": {},
   "outputs": [],
   "source": [
    "import tinybones"
   ]
  },
  {
   "cell_type": "code",
   "execution_count": 2,
   "metadata": {},
   "outputs": [
    {
     "data": {
      "text/plain": [
       "Table({Name(x): [Slot(index=Index(0), column_name=Name(x), value=Value(1))], Name(x): [Slot(index=Index(1), column_name=Name(x), value=Value(2))], Name(x): [Slot(index=Index(2), column_name=Name(x), value=Value(3))], Name(y): [Slot(index=Index(0), column_name=Name(y), value=Value(4))], Name(y): [Slot(index=Index(1), column_name=Name(y), value=Value(6))], Name(y): [Slot(index=Index(2), column_name=Name(y), value=Value(7))]})"
      ]
     },
     "execution_count": 2,
     "metadata": {},
     "output_type": "execute_result"
    }
   ],
   "source": [
    "tbl = tinybones.Table({'x': [1, 2, 3], 'y': [4, 6, 7]})\n",
    "tbl"
   ]
  }
 ],
 "metadata": {
  "kernelspec": {
   "display_name": "Python 3.10.6 ('groupby')",
   "language": "python",
   "name": "python3"
  },
  "language_info": {
   "codemirror_mode": {
    "name": "ipython",
    "version": 3
   },
   "file_extension": ".py",
   "mimetype": "text/x-python",
   "name": "python",
   "nbconvert_exporter": "python",
   "pygments_lexer": "ipython3",
   "version": "3.10.6"
  },
  "orig_nbformat": 4,
  "vscode": {
   "interpreter": {
    "hash": "17ef22c990fb5a2494a4e977acd6c897335792762338afbf6f2c20140afb1060"
   }
  }
 },
 "nbformat": 4,
 "nbformat_minor": 2
}
